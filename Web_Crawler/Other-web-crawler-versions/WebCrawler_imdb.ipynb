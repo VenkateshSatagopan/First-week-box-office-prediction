{
 "cells": [
  {
   "cell_type": "code",
   "execution_count": 1,
   "metadata": {},
   "outputs": [],
   "source": [
    "from bs4 import BeautifulSoup\n",
    "from urllib.request import urlopen\n",
    "import urllib.parse as urlparse\n",
    "import re\n",
    "import random\n",
    "import webbrowser\n",
    "import requests\n",
    "from re import sub\n",
    "from decimal import Decimal\n",
    "import numpy as np\n",
    "import pandas as pd\n",
    "import urllib"
   ]
  },
  {
   "cell_type": "markdown",
   "metadata": {},
   "source": [
    "### Search the corresponding first-week box office"
   ]
  },
  {
   "cell_type": "code",
   "execution_count": 2,
   "metadata": {},
   "outputs": [],
   "source": [
    "def find_meta_info(imdb_id):\n",
    "    # output as a dictionary\n",
    "    data = dict()\n",
    "    \n",
    "    # get html info from imdb webpage \n",
    "    url_main = \"https://www.imdb.com/title/\"\n",
    "    url_search = url_main + imdb_id\n",
    "    html_search = urlopen(url_search)\n",
    "    soup_search = BeautifulSoup(html_search,\"lxml\")\n",
    "    data[\"actors\"] = find_actors(imdb_id=imdb_id,soup_search=soup_search)\n",
    "    data[\"genres\"] = find_genres(imdb_id=imdb_id,soup_search=soup_search)\n",
    "    data[\"budgets\"] = find_budgets(imdb_id=imdb_id,soup_search=soup_search)\n",
    "    \n",
    "    return data"
   ]
  },
  {
   "cell_type": "code",
   "execution_count": 3,
   "metadata": {},
   "outputs": [],
   "source": [
    "def find_budgets(imdb_id,soup_search):\n",
    "    # get budgets\n",
    "    for div in soup_search.find_all(\"div\",{\"class\":re.compile(\"txt-block\")}):\n",
    "        for h4 in div.find_all(\"h4\"):\n",
    "            if h4.text==\"Budget:\":\n",
    "                return Decimal(sub(r'[^\\d.]', '', div.text))"
   ]
  },
  {
   "cell_type": "code",
   "execution_count": 4,
   "metadata": {},
   "outputs": [],
   "source": [
    "def find_genres(imdb_id,soup_search):\n",
    "    # get genres\n",
    "    genre_list = list()\n",
    "    for div in soup_search.find_all(\"div\",{\"class\":re.compile(\"see-more inline canwrap\")}):\n",
    "        for h4 in div.find_all(\"h4\"):\n",
    "            if h4.text==\"Genres:\":\n",
    "                for a in div.find_all(\"a\"):\n",
    "                    genre_list.append(a.text)\n",
    "    return genre_list"
   ]
  },
  {
   "cell_type": "code",
   "execution_count": 5,
   "metadata": {},
   "outputs": [],
   "source": [
    "def find_actors(imdb_id, soup_search):\n",
    "    # get actors list\n",
    "    actor_list = []\n",
    "    for cast_info in soup_search.find_all(\"table\",{\"class\":re.compile(\"cast_list\")}):\n",
    "        for a in cast_info.find_all(\"a\",{\"href\":re.compile(\"/name/\")}):\n",
    "            actor = a.text\n",
    "            if actor!='':\n",
    "                actor_list.append(a.text)\n",
    "    for i in range(len(actor_list)):\n",
    "        actor_list[i] = actor_list[i].strip()\n",
    "    return actor_list"
   ]
  },
  {
   "cell_type": "code",
   "execution_count": 6,
   "metadata": {},
   "outputs": [],
   "source": [
    "imdb_id = \"tt4154796\"\n",
    "meta_data = find_meta_info(imdb_id=imdb_id)"
   ]
  },
  {
   "cell_type": "code",
   "execution_count": 7,
   "metadata": {},
   "outputs": [
    {
     "name": "stdout",
     "output_type": "stream",
     "text": [
      "[' Action', ' Adventure', ' Sci-Fi']\n",
      "['Robert Downey Jr.', 'Chris Evans', 'Mark Ruffalo', 'Chris Hemsworth', 'Scarlett Johansson', 'Jeremy Renner', 'Don Cheadle', 'Paul Rudd', 'Benedict Cumberbatch', 'Chadwick Boseman', 'Brie Larson', 'Tom Holland', 'Karen Gillan', 'Zoe Saldana', 'Evangeline Lilly']\n",
      "356000000\n"
     ]
    }
   ],
   "source": [
    "print(meta_data[\"genres\"])\n",
    "print(meta_data[\"actors\"])\n",
    "print(meta_data[\"budgets\"])"
   ]
  },
  {
   "cell_type": "code",
   "execution_count": null,
   "metadata": {},
   "outputs": [],
   "source": []
  }
 ],
 "metadata": {
  "kernelspec": {
   "display_name": "Python 3",
   "language": "python",
   "name": "python3"
  },
  "language_info": {
   "codemirror_mode": {
    "name": "ipython",
    "version": 3
   },
   "file_extension": ".py",
   "mimetype": "text/x-python",
   "name": "python",
   "nbconvert_exporter": "python",
   "pygments_lexer": "ipython3",
   "version": "3.6.7"
  }
 },
 "nbformat": 4,
 "nbformat_minor": 2
}
