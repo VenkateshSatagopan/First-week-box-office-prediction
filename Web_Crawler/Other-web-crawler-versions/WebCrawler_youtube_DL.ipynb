{
 "cells": [
  {
   "cell_type": "code",
   "execution_count": 6,
   "metadata": {},
   "outputs": [
    {
     "ename": "ModuleNotFoundError",
     "evalue": "No module named 'youtube_dl'",
     "output_type": "error",
     "traceback": [
      "\u001b[0;31m---------------------------------------------------------------------------\u001b[0m",
      "\u001b[0;31mModuleNotFoundError\u001b[0m                       Traceback (most recent call last)",
      "\u001b[0;32m<ipython-input-6-c81782e24188>\u001b[0m in \u001b[0;36m<module>\u001b[0;34m\u001b[0m\n\u001b[0;32m----> 1\u001b[0;31m \u001b[0;32mimport\u001b[0m \u001b[0myoutube_dl\u001b[0m\u001b[0;34m\u001b[0m\u001b[0;34m\u001b[0m\u001b[0m\n\u001b[0m\u001b[1;32m      2\u001b[0m \u001b[0;32mfrom\u001b[0m \u001b[0mbs4\u001b[0m \u001b[0;32mimport\u001b[0m \u001b[0mBeautifulSoup\u001b[0m\u001b[0;34m\u001b[0m\u001b[0;34m\u001b[0m\u001b[0m\n\u001b[1;32m      3\u001b[0m \u001b[0;32mfrom\u001b[0m \u001b[0murllib\u001b[0m\u001b[0;34m.\u001b[0m\u001b[0mrequest\u001b[0m \u001b[0;32mimport\u001b[0m \u001b[0murlopen\u001b[0m\u001b[0;34m\u001b[0m\u001b[0;34m\u001b[0m\u001b[0m\n\u001b[1;32m      4\u001b[0m \u001b[0;32mimport\u001b[0m \u001b[0murllib\u001b[0m\u001b[0;34m.\u001b[0m\u001b[0mparse\u001b[0m \u001b[0;32mas\u001b[0m \u001b[0murlparse\u001b[0m\u001b[0;34m\u001b[0m\u001b[0;34m\u001b[0m\u001b[0m\n\u001b[1;32m      5\u001b[0m \u001b[0;32mimport\u001b[0m \u001b[0mre\u001b[0m\u001b[0;34m\u001b[0m\u001b[0;34m\u001b[0m\u001b[0m\n",
      "\u001b[0;31mModuleNotFoundError\u001b[0m: No module named 'youtube_dl'"
     ]
    }
   ],
   "source": [
    "import youtube-dl\n",
    "from bs4 import BeautifulSoup\n",
    "from urllib.request import urlopen\n",
    "import urllib.parse as urlparse\n",
    "import re\n",
    "import random\n",
    "import webbrowser\n",
    "import requests\n",
    "from re import sub\n",
    "from decimal import Decimal\n",
    "import numpy as np\n",
    "import pandas as pd\n",
    "import urllib\n",
    "from selenium import webdriver"
   ]
  },
  {
   "cell_type": "markdown",
   "metadata": {},
   "source": [
    "### Search the trailer links on YouTube"
   ]
  },
  {
   "cell_type": "code",
   "execution_count": 14,
   "metadata": {},
   "outputs": [],
   "source": [
    "def search_trailer(movie_name,url_search):\n",
    "    param = {'search_query': movie_name+\" trailer\"}\n",
    "    r_search = requests.get(url_search,params=param)\n",
    "    url_search = r_search.url\n",
    "    # webbrowser.open(url_search)\n",
    "    driver_option = webdriver.ChromeOptions()\n",
    "    # driver_option.add_argument(\"--headless\")\n",
    "    driver = webdriver.Chrome(options=driver_option)\n",
    "    driver.get(\"https://www.youtube.com/results?search_query=Avengers%3A+Endgame+trailer\")\n",
    "    soup_search = BeautifulSoup(driver.page_source)\n",
    "    driver.close()\n",
    "\n",
    "    sub_url_search = soup_search.find_all(\"a\",{\"href\":re.compile(\"/watch\\?v\")})\n",
    "    webID = sub_url[0][\"href\"]\n",
    "   # print(webID)\n",
    "    return webID"
   ]
  },
  {
   "cell_type": "markdown",
   "metadata": {},
   "source": [
    "### Download the trailer by YouTube-DL"
   ]
  },
  {
   "cell_type": "code",
   "execution_count": 15,
   "metadata": {},
   "outputs": [
    {
     "name": "stdout",
     "output_type": "stream",
     "text": [
      "[youtube] TcMBFSGVi1c: Downloading webpage\n",
      "[youtube] TcMBFSGVi1c: Downloading video info webpage\n",
      "[download] Destination: Marvel Studios' Avengers - Endgame - Official Trailer-TcMBFSGVi1c.mp4\n",
      "[download] 100% of 9.96MiB in 00:0584MiB/s ETA 00:000\n"
     ]
    }
   ],
   "source": [
    "youtube_search = \"https://www.youtube.com/results\"\n",
    "youtube = \"https://www.youtube.com\"\n",
    "trailer_ID = search_trailer(\"Avengers: Endgame\",youtube_search)\n",
    "trailer_url = youtube + trailer_ID\n",
    "\n",
    "# ydl = youtube_dl.YoutubeDL({'outtmpl': '%(id)s%(ext)s'})\n",
    "ydl_opts = {}\n",
    "with youtube_dl.YoutubeDL(ydl_opts) as ydl:\n",
    "    ydl.download(['trailer_url'])"
   ]
  },
  {
   "cell_type": "code",
   "execution_count": null,
   "metadata": {},
   "outputs": [],
   "source": []
  }
 ],
 "metadata": {
  "kernelspec": {
   "display_name": "Python 3",
   "language": "python",
   "name": "python3"
  },
  "language_info": {
   "codemirror_mode": {
    "name": "ipython",
    "version": 3
   },
   "file_extension": ".py",
   "mimetype": "text/x-python",
   "name": "python",
   "nbconvert_exporter": "python",
   "pygments_lexer": "ipython3",
   "version": "3.7.1"
  }
 },
 "nbformat": 4,
 "nbformat_minor": 2
}
