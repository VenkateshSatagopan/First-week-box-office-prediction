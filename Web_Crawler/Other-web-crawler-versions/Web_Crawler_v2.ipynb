{
 "cells": [
  {
   "cell_type": "markdown",
   "metadata": {},
   "source": [
    "### Web Crawler for AML project"
   ]
  },
  {
   "cell_type": "markdown",
   "metadata": {},
   "source": [
    "This web crawler searches the information on the website \"https://www.boxofficemojo.com\", which contains some meta-information we need (including the weekend box office). And in this very inital version, it can only get the weekend box office and genres information.\n",
    "\n",
    "It works like this: \n",
    "<br>First it crawls into the website \"https://www.boxofficemojo.com/genres/\". Then, it will crawls into each link of genres, and collect box office information of the movies in each genre.\n",
    "\n",
    "Further work:\n",
    "<br>Figure out what else meta-information we need for the project and make the dataset more completed."
   ]
  },
  {
   "cell_type": "code",
   "execution_count": 1,
   "metadata": {},
   "outputs": [],
   "source": [
    "from bs4 import BeautifulSoup\n",
    "from urllib.request import urlopen\n",
    "import urllib.parse as urlparse\n",
    "import re\n",
    "import random\n",
    "import webbrowser\n",
    "import requests"
   ]
  },
  {
   "cell_type": "code",
   "execution_count": 2,
   "metadata": {},
   "outputs": [],
   "source": [
    "url_genres = 'https://www.boxofficemojo.com/genres/'\n",
    "#param = {'id': 'martialarts.htm'}\n",
    "#r_genres = requests.get(url_genres,params=param)\n",
    "#url = r_genres.url\n",
    "html_genres = urlopen(url_genres).read()\n",
    "soup_genres = BeautifulSoup(html_genres,'lxml')\n",
    "\n",
    "#sub_url = soup.find_all(\"a\",{\"href\":re.compile(\"./chart/\\?id\")})\n"
   ]
  },
  {
   "cell_type": "code",
   "execution_count": 3,
   "metadata": {},
   "outputs": [],
   "source": [
    "sub_url_genres = soup_genres.find_all(\"a\",{\"href\":re.compile(\"./chart/\\?id\")})"
   ]
  },
  {
   "cell_type": "code",
   "execution_count": 4,
   "metadata": {},
   "outputs": [],
   "source": [
    "tag_genres = [None]*len(sub_url_genres)\n",
    "id_genres = tag_genres.copy()"
   ]
  },
  {
   "cell_type": "code",
   "execution_count": 5,
   "metadata": {},
   "outputs": [],
   "source": [
    "for i in range(len(sub_url_genres)):\n",
    "    id_genres[i] = urlparse.parse_qs(urlparse.urlparse(sub_url_genres[i][\"href\"]).query)\n",
    "    tag_genres[i] = sub_url_genres[i].get_text()"
   ]
  },
  {
   "cell_type": "code",
   "execution_count": 6,
   "metadata": {},
   "outputs": [
    {
     "name": "stdout",
     "output_type": "stream",
     "text": [
      "\n",
      " =====Genre 01====== \n",
      " Movie Type:  3D \n",
      "\n",
      "Avengers:Endgame  :First weekend Box office is  $357,115,007\n",
      "Star Wars:The Force Awakens  :First weekend Box office is  $247,966,675\n",
      "Men in Black  :First weekend Box office is  $51,068,455\n",
      "Rush Hour 2  :First weekend Box office is  $67,408,222\n",
      "Mission:Impossible II  :First weekend Box office is  $57,845,297\n",
      "\n",
      " =====Genre 02====== \n",
      " Movie Type:  Action - Buddy Comedy \n",
      "\n",
      "Avengers:Endgame  :First weekend Box office is  $357,115,007\n",
      "Star Wars:The Force Awakens  :First weekend Box office is  $247,966,675\n",
      "Men in Black  :First weekend Box office is  $51,068,455\n",
      "Rush Hour 2  :First weekend Box office is  $67,408,222\n",
      "Mission:Impossible II  :First weekend Box office is  $57,845,297\n",
      "\n",
      " =====Genre 03====== \n",
      " Movie Type:  Action - Martial Arts \n",
      "\n",
      "Avengers:Endgame  :First weekend Box office is  $357,115,007\n",
      "Star Wars:The Force Awakens  :First weekend Box office is  $247,966,675\n",
      "Men in Black  :First weekend Box office is  $51,068,455\n",
      "Rush Hour 2  :First weekend Box office is  $67,408,222\n",
      "Mission:Impossible II  :First weekend Box office is  $57,845,297\n",
      "\n",
      " =====Genre 04====== \n",
      " Movie Type:  Action - Sequels \n",
      "\n",
      "Avengers:Endgame  :First weekend Box office is  $357,115,007\n",
      "Star Wars:The Force Awakens  :First weekend Box office is  $247,966,675\n",
      "Men in Black  :First weekend Box office is  $51,068,455\n",
      "Rush Hour 2  :First weekend Box office is  $67,408,222\n",
      "Mission:Impossible II  :First weekend Box office is  $57,845,297\n"
     ]
    }
   ],
   "source": [
    "base_url = \"https://www.boxofficemojo.com/movies/\"\n",
    "for i in range(4): # len(id_genres) # change i to change the listed movies in each genre # maximum range is len(sub_url)\n",
    "    # enter a link of a genre\n",
    "    print(\"\\n\",\"=====Genre 0%d======\"% (i+1),\"\\n\",\"Movie Type: \",tag_genres[i],\"\\n\")\n",
    "    param_gen = {\"id\":id_genres[i][\"id\"]}\n",
    "    r = requests.get(url_genres,params=param_gen)\n",
    "    url = r.url\n",
    "    html = urlopen(url).read()\n",
    "    soup = BeautifulSoup(html,'lxml')\n",
    "    # enter a link of a movie\n",
    "    sub_url = soup.find_all(\"a\",{\"href\":re.compile(\"/movies/\\?id\")})\n",
    "    \n",
    "    par_id = urlparse.parse_qs(urlparse.urlparse(sub_url[0][\"href\"]).query)\n",
    "\n",
    "    for j in range(5): # len(sub_url)  # change j to change the listed movies in each genre # maximum range is len(sub_url)\n",
    "        par_id = urlparse.parse_qs(urlparse.urlparse(sub_url[j][\"href\"]).query)\n",
    "        param = {\"page\":\"weekend\",\"id\": par_id[\"id\"]}  # information to search\n",
    "        r_ = requests.get(base_url, params=param)\n",
    "        url_ = r_.url\n",
    "        html_ = urlopen(url_).read()\n",
    "        soup_ = BeautifulSoup(html_,'lxml')\n",
    "        sub_ = soup_.find_all('font',{'size':re.compile('2'), 'face':None})\n",
    "        title_ = soup_.find_all(\"font\",{\"face\":re.compile(\"Verdana\"),\"size\":re.compile(\"[4-6]\")})\n",
    "        title_ = title_[0].get_text()\n",
    "        # find first week box office\n",
    "        for k in range(len(sub_)):\n",
    "            if ('$' in sub_[k].get_text()):\n",
    "                box = sub_[k].get_text()\n",
    "                break\n",
    "        print(title_,\" :First weekend Box office is \",box)"
   ]
  },
  {
   "cell_type": "code",
   "execution_count": null,
   "metadata": {},
   "outputs": [],
   "source": []
  }
 ],
 "metadata": {
  "kernelspec": {
   "display_name": "Python 3",
   "language": "python",
   "name": "python3"
  },
  "language_info": {
   "codemirror_mode": {
    "name": "ipython",
    "version": 3
   },
   "file_extension": ".py",
   "mimetype": "text/x-python",
   "name": "python",
   "nbconvert_exporter": "python",
   "pygments_lexer": "ipython3",
   "version": "3.6.7"
  }
 },
 "nbformat": 4,
 "nbformat_minor": 2
}
