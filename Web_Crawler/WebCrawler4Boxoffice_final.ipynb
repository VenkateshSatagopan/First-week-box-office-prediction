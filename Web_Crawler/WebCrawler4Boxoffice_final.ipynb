{
 "cells": [
  {
   "cell_type": "code",
   "execution_count": null,
   "metadata": {},
   "outputs": [],
   "source": [
    "from bs4 import BeautifulSoup\n",
    "from urllib.request import urlopen\n",
    "import urllib.parse as urlparse\n",
    "import re\n",
    "import random\n",
    "import webbrowser\n",
    "import requests\n",
    "from re import sub\n",
    "from decimal import Decimal\n",
    "import numpy as np\n",
    "import pandas as pd\n",
    "import urllib"
   ]
  },
  {
   "cell_type": "markdown",
   "metadata": {},
   "source": [
    "### Extract name list from kaggle data"
   ]
  },
  {
   "cell_type": "code",
   "execution_count": null,
   "metadata": {},
   "outputs": [],
   "source": [
    "df_kaggle = pd.read_csv(\"../kaggle_data/train.csv\",sep=\",\")\n",
    "\n",
    "name_of_movie = df_kaggle.original_title\n",
    "\n",
    "lan_list =  df_kaggle.original_language\n",
    "en_list = [x for x in lan_list if x!=\"en\"]\n",
    "en_indx = df_kaggle[df_kaggle.original_language==\"en\"][\"id\"]"
   ]
  },
  {
   "cell_type": "code",
   "execution_count": null,
   "metadata": {},
   "outputs": [],
   "source": [
    "movie_num = len(df_kaggle.id)\n",
    "df_kaggle[\"first_week_box_office\"] = pd.Series([None]*movie_num, index=df_kaggle.index)"
   ]
  },
  {
   "cell_type": "markdown",
   "metadata": {},
   "source": [
    "### Search the corresponding first-week box office"
   ]
  },
  {
   "cell_type": "code",
   "execution_count": null,
   "metadata": {},
   "outputs": [],
   "source": [
    "def find_box_office(movie_id=None,box=None):\n",
    "    if movie_id == None:\n",
    "        return None\n",
    "    else:\n",
    "        base_url_movie = \"https://www.boxofficemojo.com/movies/\"\n",
    "        param_movie = {\"page\":\"weekend\",\"id\":movie_id}\n",
    "        r_ = requests.get(base_url_movie, params=param_movie)\n",
    "        url_ = r_.url\n",
    "        html_ = urlopen(url_).read()\n",
    "        soup_ = BeautifulSoup(html_,'lxml')\n",
    "        sub_ = soup_.find_all('font',{'size':re.compile('2'), 'face':None})\n",
    "        # title_ = soup_.find_all(\"font\",{\"face\":re.compile(\"Verdana\"),\"size\":re.compile(\"[4-6]\")})\n",
    "        # title_ = title_[0].get_text()\n",
    "        for k in range(len(sub_)):\n",
    "            if ('$' in sub_[k].get_text()):\n",
    "                box = sub_[k].get_text()\n",
    "                return Decimal(sub(r'[^\\d.]', '', box))\n",
    "        return box"
   ]
  },
  {
   "cell_type": "code",
   "execution_count": null,
   "metadata": {},
   "outputs": [],
   "source": [
    "def find_webID(movie_name,url_list,webID=None):\n",
    "    if url_list is None:\n",
    "        return None\n",
    "    else:\n",
    "        for i in range(len(url_list)):\n",
    "            if(movie_name in url_list[i].get_text() or url_list[i].get_text() in movie_name):\n",
    "                webID = urlparse.parse_qs(urlparse.urlparse(url_list[i][\"href\"]).query)\n",
    "                return webID[\"id\"]\n",
    "        return None"
   ]
  },
  {
   "cell_type": "code",
   "execution_count": null,
   "metadata": {},
   "outputs": [],
   "source": [
    "def search_movie(movie_name):\n",
    "    url_search = \"https://www.boxofficemojo.com/search/\"\n",
    "    param = {'q': movie_name}\n",
    "    r_search = requests.get(url_search,params=param)\n",
    "    url_search = r_search.url\n",
    "    try:\n",
    "        html_search = urlopen(url_search)\n",
    "    except:\n",
    "        return None\n",
    "    html_search = urlopen(url_search)\n",
    "    soup_search = BeautifulSoup(html_search,\"lxml\")\n",
    "    sub_url_search = soup_search.find_all(\"a\",{\"href\":re.compile(\"/movies/\\?id\")})\n",
    "    return sub_url_search"
   ]
  },
  {
   "cell_type": "code",
   "execution_count": null,
   "metadata": {},
   "outputs": [],
   "source": [
    "url_search = \"https://www.boxofficemojo.com/search/\"\n",
    "# name_of_movie = [\"Insight\",\"Control Room\",\"A Mighty Wind\"]\n",
    "\n",
    "counter = 0 \n",
    "\n",
    "for i in en_indx :\n",
    "    sub_url = search_movie(movie_name=name_of_movie[i-1])\n",
    "    \n",
    "    webID = find_webID(name_of_movie[i-1],sub_url)\n",
    "    \n",
    "    # par_search_id = urlparse.parse_qs(urlparse.urlparse(sub_url_search[1][\"href\"]).query)\n",
    "    \n",
    "    box_office = find_box_office(webID)\n",
    "    df_kaggle.first_week_box_office[i-1] = box_office\n",
    "    #print(i,\" <\",name_of_movie[i-1],\">\",\" the first week box office is: \",box_office)\n",
    "    \n",
    "   \n",
    "    if counter%25==0:\n",
    "        print(\"###### Searching for the box office ####### Completed: {:.2%}\".format(counter/len(en_indx),\".2%\"))\n",
    "    \n",
    "    counter+=1\n",
    "    ####### comment this out when establishing the data set #######\n",
    "    #    if counter==200:\n",
    "    #        break\n",
    "    ###############################################################\n",
    "print(\"##### Finished #####\")"
   ]
  },
  {
   "cell_type": "markdown",
   "metadata": {},
   "source": [
    "### Export the data"
   ]
  },
  {
   "cell_type": "code",
   "execution_count": null,
   "metadata": {},
   "outputs": [],
   "source": [
    "df_kaggle.to_excel(\"fwbo_kaggle.xls\",columns=df_kaggle.columns,index=False)"
   ]
  }
 ],
 "metadata": {
  "kernelspec": {
   "display_name": "Python 3",
   "language": "python",
   "name": "python3"
  },
  "language_info": {
   "codemirror_mode": {
    "name": "ipython",
    "version": 3
   },
   "file_extension": ".py",
   "mimetype": "text/x-python",
   "name": "python",
   "nbconvert_exporter": "python",
   "pygments_lexer": "ipython3",
   "version": "3.7.3"
  }
 },
 "nbformat": 4,
 "nbformat_minor": 2
}
